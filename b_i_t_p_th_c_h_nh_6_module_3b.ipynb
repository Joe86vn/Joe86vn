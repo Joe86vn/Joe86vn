{
  "nbformat": 4,
  "nbformat_minor": 0,
  "metadata": {
    "colab": {
      "provenance": [],
      "include_colab_link": true
    },
    "kernelspec": {
      "name": "python3",
      "display_name": "Python 3"
    },
    "language_info": {
      "name": "python"
    }
  },
  "cells": [
    {
      "cell_type": "markdown",
      "metadata": {
        "id": "view-in-github",
        "colab_type": "text"
      },
      "source": [
        "<a href=\"https://colab.research.google.com/github/Joe86vn/Joe86vn/blob/main/b_i_t_p_th_c_h_nh_6_module_3b.ipynb\" target=\"_parent\"><img src=\"https://colab.research.google.com/assets/colab-badge.svg\" alt=\"Open In Colab\"/></a>"
      ]
    },
    {
      "cell_type": "markdown",
      "source": [
        "# I. Bài tập 1: Nối và Gộp"
      ],
      "metadata": {
        "id": "E5PRsGgZB7_w"
      }
    },
    {
      "cell_type": "markdown",
      "source": [
        "a. Nối dữ liệu đồ thị nến của các cổ phiếu trong danh sách VN30 thành 1 DataFrame trong 200 ngày qua (từ 1/9/2023 - 18/3/2024). Nguồn dữ liệu sử dụng là hàm `stock_historical_data` từ vnstock. [Link](https://docs.vnstock.site/functions/technical/#truy-xuat-du-lieu-gia-lich-su)\n",
        "\n",
        "b. Tạo bảng so sánh báo cáo doanh thu của các cổ phiếu ngân hàng trong danh sách VN30"
      ],
      "metadata": {
        "id": "XhWHWY1ECKmC"
      }
    },
    {
      "cell_type": "markdown",
      "source": [
        "**Gợi ý**:\n",
        "- Code lấy danh sách mã cổ phiếu VN30 có trong nội dung bài học\n",
        "- Sử dụng hàm listing_companies trong vnstock, nguồn SSI để lấy thông tin công ty và ngành"
      ],
      "metadata": {
        "id": "-koKTZg6EHBS"
      }
    },
    {
      "cell_type": "markdown",
      "source": [
        "# II. Bài tập 2: Xác định tín hiệu quá mua, quá bán"
      ],
      "metadata": {
        "id": "0annuvZzClFv"
      }
    },
    {
      "cell_type": "markdown",
      "source": [
        "Xác định tín hiệu kỹ thuật của các mã cổ phiếu trong danh sách VN30 từ ngày 12/3/2024 - 18/03/2024. Điểm gốc lấy dữ liệu tính toán từ 12/3/2023 (200 ngày qua).\n",
        "\n",
        "* Chỉ báo RSI, khung thời gian 14 ngày. Mốc xác định quá mua là 70, quá bán là 30. Tín hiệu quá mua khi RSI lớn hơn 70, quá bán khi RSI nhỏ hơn 30.\n",
        "\n",
        "**Yêu cầu**: Những cổ phiếu nào trong danh sách VN30 có tín hiệu Quá mua? Cổ phiếu nào có tín hiệu Quá bán trong 7 ngày qua?\n",
        "\n",
        "**Gợi ý**: Sử dụng DataFrame có từ bài 1a để tính toán.\n",
        "\n"
      ],
      "metadata": {
        "id": "hHwpcuWQMrk-"
      }
    },
    {
      "cell_type": "markdown",
      "source": [
        "# III. Bài tập 3: Xác định tín hiệu đảo chiều"
      ],
      "metadata": {
        "id": "OlDcRJraC4zd"
      }
    },
    {
      "cell_type": "markdown",
      "source": [
        "Cho danh sách các mã cổ phiếu VN30 7 ngày qua (từ 12/3 - 18/3). Những cổ phiếu nào có tín hiệu đảo chiều từ mô hình nến DRAGONFLY DOJI?"
      ],
      "metadata": {
        "id": "EkGAtmxGSjQN"
      }
    },
    {
      "cell_type": "markdown",
      "source": [
        "# IV. Bài tập 4 (Không bắt buộc)"
      ],
      "metadata": {
        "id": "NpufbWRwTWGt"
      }
    },
    {
      "cell_type": "markdown",
      "source": [
        "> Đây là phần bài tập rút gọn từ một dự án thực tế mà Thịnh làm cho khách hàng.\n",
        "\n",
        "Thoạt nhìn thì kết quả cuối cùng không quá phức tạp nhưng thực tế cũng không hề đơn giản. Để làm bài tập này, các bạn phải vận dụng tất cả kiến thức đã học về biến đổi dữ liệu và ứng dụng linh hoạt để thành công.\n",
        "\n",
        "**Giới thiệu:** Trong bài tập này, khách hàng yêu cầu tạo ra một bảng tính để sử dụng là bộ lọc cổ phiếu. Dữ liệu của bảng tính được bố trí theo yêu cầu sau:\n",
        "- Mỗi một hàng thể hiện dữ liệu của một mã cổ phiếu\n",
        "- Các cột thể hiện 3 nhóm thông tin chính là Tài sản (asset), Vốn chủ sở hữu (equitty), Thông tin công ty (Overview). Trong đó:\n",
        "  - Giá trị tài sản và nguồn vốn đủ thông tin 10 năm trở về trước. Chỉ lấy dữ liệu báo cáo năm.\n",
        "  - Thông tin cơ bản công ty bao gồm: Số cổ phiếu niêm yết, Số cổ phiếu đang lưu hành, Sàn giao dịch"
      ],
      "metadata": {
        "id": "AF1Qg34HYZiW"
      }
    },
    {
      "cell_type": "code",
      "source": [
        "screener_df.T"
      ],
      "metadata": {
        "colab": {
          "base_uri": "https://localhost:8080/",
          "height": 141
        },
        "outputId": "ced992d6-fc55-4a34-934e-23f22c5147cf",
        "id": "WvgZp1RpY2hK"
      },
      "execution_count": null,
      "outputs": [
        {
          "output_type": "execute_result",
          "data": {
            "text/plain": [
              "      asset - yearly                                                         \\\n",
              "index           2013   2014    2015    2016    2017    2018    2019    2020   \n",
              "VIC            75773  90070  145554  183476  213792  288127  403741  422504   \n",
              "\n",
              "                       ... equity - yearly                                \\\n",
              "index    2021    2022  ...            2016   2017   2018    2019    2020   \n",
              "VIC    428384  577407  ...           48291  52557  99167  120589  135853   \n",
              "\n",
              "                        Overview                            \n",
              "index    2021    2022 issueShare outstandingShare exchange  \n",
              "VIC    159572  135655     3813.9           3813.9     HOSE  \n",
              "\n",
              "[1 rows x 23 columns]"
            ],
            "text/html": [
              "\n",
              "  <div id=\"df-e53f7ec2-01b0-4b6f-a64a-32ffecbe77ab\" class=\"colab-df-container\">\n",
              "    <div>\n",
              "<style scoped>\n",
              "    .dataframe tbody tr th:only-of-type {\n",
              "        vertical-align: middle;\n",
              "    }\n",
              "\n",
              "    .dataframe tbody tr th {\n",
              "        vertical-align: top;\n",
              "    }\n",
              "\n",
              "    .dataframe thead tr th {\n",
              "        text-align: left;\n",
              "    }\n",
              "</style>\n",
              "<table border=\"1\" class=\"dataframe\">\n",
              "  <thead>\n",
              "    <tr>\n",
              "      <th></th>\n",
              "      <th colspan=\"10\" halign=\"left\">asset - yearly</th>\n",
              "      <th>...</th>\n",
              "      <th colspan=\"7\" halign=\"left\">equity - yearly</th>\n",
              "      <th colspan=\"3\" halign=\"left\">Overview</th>\n",
              "    </tr>\n",
              "    <tr>\n",
              "      <th>index</th>\n",
              "      <th>2013</th>\n",
              "      <th>2014</th>\n",
              "      <th>2015</th>\n",
              "      <th>2016</th>\n",
              "      <th>2017</th>\n",
              "      <th>2018</th>\n",
              "      <th>2019</th>\n",
              "      <th>2020</th>\n",
              "      <th>2021</th>\n",
              "      <th>2022</th>\n",
              "      <th>...</th>\n",
              "      <th>2016</th>\n",
              "      <th>2017</th>\n",
              "      <th>2018</th>\n",
              "      <th>2019</th>\n",
              "      <th>2020</th>\n",
              "      <th>2021</th>\n",
              "      <th>2022</th>\n",
              "      <th>issueShare</th>\n",
              "      <th>outstandingShare</th>\n",
              "      <th>exchange</th>\n",
              "    </tr>\n",
              "  </thead>\n",
              "  <tbody>\n",
              "    <tr>\n",
              "      <th>VIC</th>\n",
              "      <td>75773</td>\n",
              "      <td>90070</td>\n",
              "      <td>145554</td>\n",
              "      <td>183476</td>\n",
              "      <td>213792</td>\n",
              "      <td>288127</td>\n",
              "      <td>403741</td>\n",
              "      <td>422504</td>\n",
              "      <td>428384</td>\n",
              "      <td>577407</td>\n",
              "      <td>...</td>\n",
              "      <td>48291</td>\n",
              "      <td>52557</td>\n",
              "      <td>99167</td>\n",
              "      <td>120589</td>\n",
              "      <td>135853</td>\n",
              "      <td>159572</td>\n",
              "      <td>135655</td>\n",
              "      <td>3813.9</td>\n",
              "      <td>3813.9</td>\n",
              "      <td>HOSE</td>\n",
              "    </tr>\n",
              "  </tbody>\n",
              "</table>\n",
              "<p>1 rows × 23 columns</p>\n",
              "</div>\n",
              "    <div class=\"colab-df-buttons\">\n",
              "\n",
              "  <div class=\"colab-df-container\">\n",
              "    <button class=\"colab-df-convert\" onclick=\"convertToInteractive('df-e53f7ec2-01b0-4b6f-a64a-32ffecbe77ab')\"\n",
              "            title=\"Convert this dataframe to an interactive table.\"\n",
              "            style=\"display:none;\">\n",
              "\n",
              "  <svg xmlns=\"http://www.w3.org/2000/svg\" height=\"24px\" viewBox=\"0 -960 960 960\">\n",
              "    <path d=\"M120-120v-720h720v720H120Zm60-500h600v-160H180v160Zm220 220h160v-160H400v160Zm0 220h160v-160H400v160ZM180-400h160v-160H180v160Zm440 0h160v-160H620v160ZM180-180h160v-160H180v160Zm440 0h160v-160H620v160Z\"/>\n",
              "  </svg>\n",
              "    </button>\n",
              "\n",
              "  <style>\n",
              "    .colab-df-container {\n",
              "      display:flex;\n",
              "      gap: 12px;\n",
              "    }\n",
              "\n",
              "    .colab-df-convert {\n",
              "      background-color: #E8F0FE;\n",
              "      border: none;\n",
              "      border-radius: 50%;\n",
              "      cursor: pointer;\n",
              "      display: none;\n",
              "      fill: #1967D2;\n",
              "      height: 32px;\n",
              "      padding: 0 0 0 0;\n",
              "      width: 32px;\n",
              "    }\n",
              "\n",
              "    .colab-df-convert:hover {\n",
              "      background-color: #E2EBFA;\n",
              "      box-shadow: 0px 1px 2px rgba(60, 64, 67, 0.3), 0px 1px 3px 1px rgba(60, 64, 67, 0.15);\n",
              "      fill: #174EA6;\n",
              "    }\n",
              "\n",
              "    .colab-df-buttons div {\n",
              "      margin-bottom: 4px;\n",
              "    }\n",
              "\n",
              "    [theme=dark] .colab-df-convert {\n",
              "      background-color: #3B4455;\n",
              "      fill: #D2E3FC;\n",
              "    }\n",
              "\n",
              "    [theme=dark] .colab-df-convert:hover {\n",
              "      background-color: #434B5C;\n",
              "      box-shadow: 0px 1px 3px 1px rgba(0, 0, 0, 0.15);\n",
              "      filter: drop-shadow(0px 1px 2px rgba(0, 0, 0, 0.3));\n",
              "      fill: #FFFFFF;\n",
              "    }\n",
              "  </style>\n",
              "\n",
              "    <script>\n",
              "      const buttonEl =\n",
              "        document.querySelector('#df-e53f7ec2-01b0-4b6f-a64a-32ffecbe77ab button.colab-df-convert');\n",
              "      buttonEl.style.display =\n",
              "        google.colab.kernel.accessAllowed ? 'block' : 'none';\n",
              "\n",
              "      async function convertToInteractive(key) {\n",
              "        const element = document.querySelector('#df-e53f7ec2-01b0-4b6f-a64a-32ffecbe77ab');\n",
              "        const dataTable =\n",
              "          await google.colab.kernel.invokeFunction('convertToInteractive',\n",
              "                                                    [key], {});\n",
              "        if (!dataTable) return;\n",
              "\n",
              "        const docLinkHtml = 'Like what you see? Visit the ' +\n",
              "          '<a target=\"_blank\" href=https://colab.research.google.com/notebooks/data_table.ipynb>data table notebook</a>'\n",
              "          + ' to learn more about interactive tables.';\n",
              "        element.innerHTML = '';\n",
              "        dataTable['output_type'] = 'display_data';\n",
              "        await google.colab.output.renderOutput(dataTable, element);\n",
              "        const docLink = document.createElement('div');\n",
              "        docLink.innerHTML = docLinkHtml;\n",
              "        element.appendChild(docLink);\n",
              "      }\n",
              "    </script>\n",
              "  </div>\n",
              "\n",
              "    </div>\n",
              "  </div>\n"
            ]
          },
          "metadata": {},
          "execution_count": 64
        }
      ]
    },
    {
      "cell_type": "markdown",
      "source": [
        "**Yêu cầu**\n",
        "1. Phân tích cấu trúc bảng tính và các bước cần thực hiện để tạo ra kết quả cần đạt như trên\n",
        "2. Thực hiện lấy dữ liệu từ `vnstock` để điền các thông tin như yêu cầu ở trên vào DataFrame có tên `screener_df` đối với mã cổ phiếu `VIC`\n",
        "---\n",
        "**Nâng cao**\n",
        "\n",
        "3. Thử sức thêm thông tin Lợi nhuận sau thuế 4 quý gần nhất vào DataFrame trên\n",
        "4. Nâng cao: Viết chương trình để lấy thông tin như 3 yêu cầu trên cho tất cả mã cổ phiếu Ngân hàng\n",
        "\n",
        "**Gợi ý**\n",
        "> Bạn cần đọc bài học lý thuyết để hiểu hơn về Chỉ mục phân cấp (Hierarchical indexing) [tại đây](https://course.learn-anything.vn/lesson/doc-them-giao-trinh-data-wrangling-noi-gop-thay-doi-cau-truc-dataframe/)"
      ],
      "metadata": {
        "id": "4FTnG5xDbzGy"
      }
    }
  ]
}